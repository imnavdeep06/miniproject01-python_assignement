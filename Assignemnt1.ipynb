{
  "nbformat": 4,
  "nbformat_minor": 0,
  "metadata": {
    "colab": {
      "provenance": [],
      "authorship_tag": "ABX9TyPJlMv7upVTs4SoP+ZdTI9T",
      "include_colab_link": true
    },
    "kernelspec": {
      "name": "python3",
      "display_name": "Python 3"
    },
    "language_info": {
      "name": "python"
    }
  },
  "cells": [
    {
      "cell_type": "markdown",
      "metadata": {
        "id": "view-in-github",
        "colab_type": "text"
      },
      "source": [
        "<a href=\"https://colab.research.google.com/github/imnavdeep06/miniproject01-python_assignement/blob/main/Assignemnt1.ipynb\" target=\"_parent\"><img src=\"https://colab.research.google.com/assets/colab-badge.svg\" alt=\"Open In Colab\"/></a>"
      ]
    },
    {
      "cell_type": "markdown",
      "source": [
        "**Q1. L is a list defined as L= [11, 12, 13, 14].**"
      ],
      "metadata": {
        "id": "Z_b5GMc8jEu4"
      }
    },
    {
      "cell_type": "markdown",
      "source": [
        "(i) WAP to add 50 and 60 to L\n"
      ],
      "metadata": {
        "id": "mT45ZJlFjG6b"
      }
    },
    {
      "cell_type": "code",
      "source": [
        "L= [11, 12, 13, 14]\n",
        "print (\"Orignal string : \",L)\n",
        "\n",
        "L.append (50)\n",
        "L.append (60)\n",
        "\n",
        "\n",
        "print (\"Updated list : \", L)"
      ],
      "metadata": {
        "colab": {
          "base_uri": "https://localhost:8080/"
        },
        "id": "vwibz8dKjFnG",
        "outputId": "7af4cbce-6f56-44b0-b191-1fe5e220243d"
      },
      "execution_count": null,
      "outputs": [
        {
          "output_type": "stream",
          "name": "stdout",
          "text": [
            "Orignal string :  [11, 12, 13, 14]\n",
            "Updated list :  [11, 12, 13, 14, 50, 60]\n"
          ]
        }
      ]
    },
    {
      "cell_type": "markdown",
      "source": [
        "(ii)WAP to remove 11 and 13from L."
      ],
      "metadata": {
        "id": "81BvY1cSj7tT"
      }
    },
    {
      "cell_type": "code",
      "source": [
        "L= [11, 12, 13, 14]\n",
        "print (\"Orignal string : \",L)\n",
        "\n",
        "L.remove (11)\n",
        "L.remove (13)\n",
        "\n",
        "print (\"Updated list : \", L)"
      ],
      "metadata": {
        "colab": {
          "base_uri": "https://localhost:8080/"
        },
        "id": "WuADJU4vkDCz",
        "outputId": "087b6fe1-937b-48ee-9aa5-fe47efa9bee3"
      },
      "execution_count": null,
      "outputs": [
        {
          "output_type": "stream",
          "name": "stdout",
          "text": [
            "Orignal string :  [11, 12, 13, 14]\n",
            "Updated list :  [12, 14]\n"
          ]
        }
      ]
    },
    {
      "cell_type": "markdown",
      "source": [
        "(iii) WAP to sort L in ascending order."
      ],
      "metadata": {
        "id": "tjFYeWwmkUjd"
      }
    },
    {
      "cell_type": "code",
      "source": [
        "L= [11, 12, 13, 14]\n",
        "print (\"Orignal string : \",L)\n",
        "\n",
        "L.sort ()\n",
        "\n",
        "print (\"Updated list : \", L) #no change wil be there as"
      ],
      "metadata": {
        "colab": {
          "base_uri": "https://localhost:8080/"
        },
        "id": "YrNk_rsLkXlo",
        "outputId": "d5df311e-2ac9-4adf-838d-768c72f40bca"
      },
      "execution_count": null,
      "outputs": [
        {
          "output_type": "stream",
          "name": "stdout",
          "text": [
            "Orignal string :  [11, 12, 13, 14]\n",
            "Updated list :  [11, 12, 13, 14]\n"
          ]
        }
      ]
    },
    {
      "cell_type": "markdown",
      "source": [
        "(iv) WAP to sort L in descending order."
      ],
      "metadata": {
        "id": "d306RyFQlZQu"
      }
    },
    {
      "cell_type": "code",
      "source": [
        "L= [11, 12, 13, 14]\n",
        "print (\"Orignal string : \",L)\n",
        "\n",
        "L.sort (reverse = True)\n",
        "\n",
        "print (\"Updated list : \", L) #no change wil be there as"
      ],
      "metadata": {
        "colab": {
          "base_uri": "https://localhost:8080/"
        },
        "id": "36SuCfZWldrh",
        "outputId": "e0c9267d-db1a-4360-9cc9-de8e2272d1e5"
      },
      "execution_count": null,
      "outputs": [
        {
          "output_type": "stream",
          "name": "stdout",
          "text": [
            "Orignal string :  [11, 12, 13, 14]\n",
            "Updated list :  [14, 13, 12, 11]\n"
          ]
        }
      ]
    },
    {
      "cell_type": "markdown",
      "source": [
        "(v) WAP to search for 13 in L."
      ],
      "metadata": {
        "id": "zmfbPox2mU5I"
      }
    },
    {
      "cell_type": "code",
      "source": [
        "L= [11, 12, 13, 14]\n",
        "for i in L:\n",
        "  if (i == 13):\n",
        "    print (\"element found at :\", L.index(13))\n",
        "    break"
      ],
      "metadata": {
        "colab": {
          "base_uri": "https://localhost:8080/"
        },
        "id": "xT1VaRosnNI2",
        "outputId": "7414a590-8e89-4c3c-a4f7-d937013f8b8b"
      },
      "execution_count": null,
      "outputs": [
        {
          "output_type": "stream",
          "name": "stdout",
          "text": [
            "element found at : 2\n"
          ]
        }
      ]
    },
    {
      "cell_type": "markdown",
      "source": [
        "(vi) WAP to count the number of elements present in L."
      ],
      "metadata": {
        "id": "qbxNaUYvo8HH"
      }
    },
    {
      "cell_type": "code",
      "source": [
        "L= [11, 12, 13, 14]\n",
        "\n",
        "print (\"Number of elements in L are : \", len(L))"
      ],
      "metadata": {
        "colab": {
          "base_uri": "https://localhost:8080/"
        },
        "id": "DvDP3vaLo_Su",
        "outputId": "1f54dfc3-5071-4003-c3a2-82bbeb1132be"
      },
      "execution_count": null,
      "outputs": [
        {
          "output_type": "stream",
          "name": "stdout",
          "text": [
            "Number of elements in L are :  4\n"
          ]
        }
      ]
    },
    {
      "cell_type": "markdown",
      "source": [
        "(vii) WAP to sum all the elements in L."
      ],
      "metadata": {
        "id": "PYiDRuVaptM5"
      }
    },
    {
      "cell_type": "code",
      "source": [
        "L= [11, 12, 13, 14]\n",
        "print (\"sum of elements in list :\", sum(L))"
      ],
      "metadata": {
        "colab": {
          "base_uri": "https://localhost:8080/"
        },
        "id": "kdaMgyUXpxei",
        "outputId": "f3661f8b-7814-4df1-8c39-14c518dc5392"
      },
      "execution_count": null,
      "outputs": [
        {
          "output_type": "stream",
          "name": "stdout",
          "text": [
            "sum of elements in list : 50\n"
          ]
        }
      ]
    },
    {
      "cell_type": "markdown",
      "source": [
        "(viii) WAP to sum all ODD numbers in L."
      ],
      "metadata": {
        "id": "K3pz1LSop_3X"
      }
    },
    {
      "cell_type": "code",
      "source": [
        "L= [11, 12, 13, 14]\n",
        "sum = 0\n",
        "for i in L:\n",
        "  if (i%2 != 0):\n",
        "    sum = sum + i\n",
        "print (\"sum of odd elements in list :\", sum)"
      ],
      "metadata": {
        "colab": {
          "base_uri": "https://localhost:8080/"
        },
        "id": "lNmtqol0p90o",
        "outputId": "c228c3c6-8ef1-49b1-adac-52a7af703ecd"
      },
      "execution_count": null,
      "outputs": [
        {
          "output_type": "stream",
          "name": "stdout",
          "text": [
            "sum of odd elements in list : 24\n"
          ]
        }
      ]
    },
    {
      "cell_type": "markdown",
      "source": [
        "(ix) WAP to sum all EVEN numbers in L."
      ],
      "metadata": {
        "id": "1CqTKeLIqjNl"
      }
    },
    {
      "cell_type": "code",
      "source": [
        "L= [11, 12, 13, 14]\n",
        "sum = 0\n",
        "for i in L:\n",
        "  if (i%2 == 0):\n",
        "    sum = sum + i\n",
        "print (\"sum of odd elements in list :\", sum)"
      ],
      "metadata": {
        "colab": {
          "base_uri": "https://localhost:8080/"
        },
        "id": "wviFtmYGqlKi",
        "outputId": "9ec1bc28-48c5-4b92-bb02-51c97464745a"
      },
      "execution_count": null,
      "outputs": [
        {
          "output_type": "stream",
          "name": "stdout",
          "text": [
            "sum of odd elements in list : 26\n"
          ]
        }
      ]
    },
    {
      "cell_type": "markdown",
      "source": [
        "(x) WAP to sum all PRIME numbers in L."
      ],
      "metadata": {
        "id": "CKhYlO1tqqdY"
      }
    },
    {
      "cell_type": "code",
      "source": [
        "def is_prime(n):\n",
        "    if n <= 1:\n",
        "        return False\n",
        "    for i in range(2, n//2):\n",
        "        if (n % i) == 0:\n",
        "            return False\n",
        "    return True\n",
        "\n",
        "L = [11, 12, 13, 14]\n",
        "prime_sum = 0\n",
        "\n",
        "for num in L:\n",
        "    if is_prime(num):\n",
        "        prime_sum += num\n",
        "\n",
        "print(\"Sum of prime numbers in the list:\", prime_sum)\n"
      ],
      "metadata": {
        "colab": {
          "base_uri": "https://localhost:8080/"
        },
        "id": "wrajBZmPqsSy",
        "outputId": "0157f8b5-3eb5-4d31-ad80-2275a9c527be"
      },
      "execution_count": null,
      "outputs": [
        {
          "output_type": "stream",
          "name": "stdout",
          "text": [
            "Sum of prime numbers in the list: 24\n"
          ]
        }
      ]
    },
    {
      "cell_type": "markdown",
      "source": [
        "(xi) WAP to clear all the elements in L."
      ],
      "metadata": {
        "id": "HWYUpojp3azh"
      }
    },
    {
      "cell_type": "code",
      "source": [
        "L = [11, 12, 13, 14]\n",
        "for i in L:\n",
        "  L.clear ()\n",
        "\n",
        "print (L)"
      ],
      "metadata": {
        "colab": {
          "base_uri": "https://localhost:8080/"
        },
        "id": "X6Joctw83sIU",
        "outputId": "43ad6b89-d3a5-447c-cc48-3f941ca4559d"
      },
      "execution_count": null,
      "outputs": [
        {
          "output_type": "stream",
          "name": "stdout",
          "text": [
            "[]\n"
          ]
        }
      ]
    },
    {
      "cell_type": "markdown",
      "source": [
        "(xii) WAP to delete L."
      ],
      "metadata": {
        "id": "evgfusQ64XEw"
      }
    },
    {
      "cell_type": "code",
      "source": [
        "L = [11, 12, 13, 14]\n",
        "\n",
        "del L\n",
        "\n"
      ],
      "metadata": {
        "id": "jJgMO8pC4l-I"
      },
      "execution_count": null,
      "outputs": []
    },
    {
      "cell_type": "markdown",
      "source": [
        "\n",
        "\n",
        "---\n",
        "\n"
      ],
      "metadata": {
        "id": "daUvepPiFBid"
      }
    },
    {
      "cell_type": "markdown",
      "source": [
        "**Q2. D is a dictionary defined as D= {1:5.6, 2:7.8, 3:6.6, 4:8.7, 5:7.7}.**"
      ],
      "metadata": {
        "id": "9VoGrwOT5egI"
      }
    },
    {
      "cell_type": "markdown",
      "source": [
        "(i) WAP to add new entry in D; key=8 and value is 8.8"
      ],
      "metadata": {
        "id": "HamEP4SC52fT"
      }
    },
    {
      "cell_type": "code",
      "source": [
        "D = {\n",
        "      1:5.6,\n",
        "      2:7.8,\n",
        "      3:6.6,\n",
        "      4:8.7,\n",
        "      5:7.7\n",
        "}\n",
        "print (\"Orignal :\", D)\n",
        "D [8] = 8.8\n",
        "\n",
        "print (\"Updated :\", D)"
      ],
      "metadata": {
        "colab": {
          "base_uri": "https://localhost:8080/"
        },
        "id": "pw7KOvLO5n4s",
        "outputId": "f4583fa7-154b-4aaf-86db-d0146fd6802d"
      },
      "execution_count": null,
      "outputs": [
        {
          "output_type": "stream",
          "name": "stdout",
          "text": [
            "Orignal : {1: 5.6, 2: 7.8, 3: 6.6, 4: 8.7, 5: 7.7}\n",
            "Updated : {1: 5.6, 2: 7.8, 3: 6.6, 4: 8.7, 5: 7.7, 8: 8.8}\n"
          ]
        }
      ]
    },
    {
      "cell_type": "markdown",
      "source": [
        "(ii) WAP to remove key=2."
      ],
      "metadata": {
        "id": "uqgJ5kx26zrt"
      }
    },
    {
      "cell_type": "code",
      "source": [
        "D = {\n",
        "      1:5.6,\n",
        "      2:7.8,\n",
        "      3:6.6,\n",
        "      4:8.7,\n",
        "      5:7.7\n",
        "}\n",
        "\n",
        "print (\"Orignal :\", D)\n",
        "\n",
        "del D[2]\n",
        "\n",
        "print (\"Updated :\", D)"
      ],
      "metadata": {
        "colab": {
          "base_uri": "https://localhost:8080/"
        },
        "id": "ssQ_Ir2T60UC",
        "outputId": "b2304849-c0a0-41db-ce98-6d1c927b2b4f"
      },
      "execution_count": null,
      "outputs": [
        {
          "output_type": "stream",
          "name": "stdout",
          "text": [
            "Orignal : {1: 5.6, 2: 7.8, 3: 6.6, 4: 8.7, 5: 7.7}\n",
            "Updated : {1: 5.6, 3: 6.6, 4: 8.7, 5: 7.7}\n"
          ]
        }
      ]
    },
    {
      "cell_type": "markdown",
      "source": [
        "(iii) WAP to check weather 6 key is present in D."
      ],
      "metadata": {
        "id": "stDQXpAA7fWv"
      }
    },
    {
      "cell_type": "code",
      "source": [
        "D = {\n",
        "      1:5.6,\n",
        "      2:7.8,\n",
        "      3:6.6,\n",
        "      4:8.7,\n",
        "      5:7.7\n",
        "}\n",
        "\n",
        "key_to_check = 6\n",
        "\n",
        "if key_to_check in D:\n",
        "    print(\"The key is present in the dictionary.\")\n",
        "else:\n",
        "    print(\"The key is not present in the dictionary.\")"
      ],
      "metadata": {
        "colab": {
          "base_uri": "https://localhost:8080/"
        },
        "id": "c4BO2xuA7jpO",
        "outputId": "9596fa84-d2c0-4eb2-9ada-ad6abb5518b5"
      },
      "execution_count": null,
      "outputs": [
        {
          "output_type": "stream",
          "name": "stdout",
          "text": [
            "The key is not present in the dictionary.\n"
          ]
        }
      ]
    },
    {
      "cell_type": "markdown",
      "source": [
        "(iv) WAP to count the number of elements present in D."
      ],
      "metadata": {
        "id": "BQUKdYNF8lTr"
      }
    },
    {
      "cell_type": "code",
      "source": [
        "D = {\n",
        "      1:5.6,\n",
        "      2:7.8,\n",
        "      3:6.6,\n",
        "      4:8.7,\n",
        "      5:7.7\n",
        "}\n",
        "\n",
        "print (\"number of elements in D : \", len(D))\n"
      ],
      "metadata": {
        "colab": {
          "base_uri": "https://localhost:8080/"
        },
        "id": "ZZ220iOT8pU-",
        "outputId": "b6b79e03-f6f4-4380-e985-2a0b86fc7555"
      },
      "execution_count": null,
      "outputs": [
        {
          "output_type": "stream",
          "name": "stdout",
          "text": [
            "number of elements in D :  5\n"
          ]
        }
      ]
    },
    {
      "cell_type": "markdown",
      "source": [
        "(v) WAP to add all the values present D.\n",
        "\n"
      ],
      "metadata": {
        "id": "01GG2Xcq9R8e"
      }
    },
    {
      "cell_type": "code",
      "source": [
        "D = {\n",
        "      1:5.6,\n",
        "      2:7.8,\n",
        "      3:6.6,\n",
        "      4:8.7,\n",
        "      5:7.7\n",
        "}\n",
        "sum = 0\n",
        "for i in D.values ():\n",
        "  sum = sum + i\n",
        "print (\"sum of all values in D : \", sum)"
      ],
      "metadata": {
        "colab": {
          "base_uri": "https://localhost:8080/"
        },
        "id": "nsfV5OMd9bMH",
        "outputId": "a13bea79-3adb-484a-bf2a-fff536b50ad4"
      },
      "execution_count": null,
      "outputs": [
        {
          "output_type": "stream",
          "name": "stdout",
          "text": [
            "sum of all values in D :  36.4\n"
          ]
        }
      ]
    },
    {
      "cell_type": "markdown",
      "source": [
        "(vi) WAP to update the value of 3 to 7.1."
      ],
      "metadata": {
        "id": "ndnPH95D-Z4J"
      }
    },
    {
      "cell_type": "code",
      "source": [
        "D = {\n",
        "      1:5.6,\n",
        "      2:7.8,\n",
        "      3:6.6,\n",
        "      4:8.7,\n",
        "      5:7.7\n",
        "}\n",
        "\n",
        "D.update ({3:7.1})\n",
        "print (D)"
      ],
      "metadata": {
        "colab": {
          "base_uri": "https://localhost:8080/"
        },
        "id": "_zD2JyTA-lEB",
        "outputId": "661424f7-1015-4aa6-becb-cddb6233bbc7"
      },
      "execution_count": null,
      "outputs": [
        {
          "output_type": "stream",
          "name": "stdout",
          "text": [
            "{1: 5.6, 2: 7.8, 3: 7.1, 4: 8.7, 5: 7.7}\n"
          ]
        }
      ]
    },
    {
      "cell_type": "markdown",
      "source": [
        "(vii) WAP to clear the dictionary."
      ],
      "metadata": {
        "id": "Hxxn2sLS-4WH"
      }
    },
    {
      "cell_type": "code",
      "source": [
        "D = {\n",
        "      1:5.6,\n",
        "      2:7.8,\n",
        "      3:6.6,\n",
        "      4:8.7,\n",
        "      5:7.7\n",
        "}\n",
        "\n",
        "D.clear ()\n",
        "print (D)"
      ],
      "metadata": {
        "colab": {
          "base_uri": "https://localhost:8080/"
        },
        "id": "DD7UjjEU_Ase",
        "outputId": "befdafeb-1455-4914-8978-18a9f0bc9b0a"
      },
      "execution_count": null,
      "outputs": [
        {
          "output_type": "stream",
          "name": "stdout",
          "text": [
            "{}\n"
          ]
        }
      ]
    },
    {
      "cell_type": "markdown",
      "source": [
        "\n",
        "\n",
        "---\n",
        "\n"
      ],
      "metadata": {
        "id": "NpaqNAuIE80b"
      }
    },
    {
      "cell_type": "markdown",
      "source": [
        "**Q3. S1 is a set defined as S1= {10, 20, 30, 40, 50, 60}.\n",
        "S2 is a set defined as S2= {40, 50, 60, 70, 80, 90}.**"
      ],
      "metadata": {
        "id": "T0NRVfOJ_O-l"
      }
    },
    {
      "cell_type": "markdown",
      "source": [
        "(i) WAP to add 55 and 66 in Set S1."
      ],
      "metadata": {
        "id": "mLoonPKJ_UrJ"
      }
    },
    {
      "cell_type": "code",
      "source": [
        "S1= {10, 20, 30, 40, 50, 60}\n",
        "print (\"Orignal :\", S1)\n",
        "\n",
        "S1.add (55)\n",
        "S1.add (66)\n",
        "\n",
        "print (\"Updated :\", S1)"
      ],
      "metadata": {
        "colab": {
          "base_uri": "https://localhost:8080/"
        },
        "id": "96YDPF2BBrUq",
        "outputId": "ec9fcf42-b461-46fa-e44d-dacbf7a618c7"
      },
      "execution_count": null,
      "outputs": [
        {
          "output_type": "stream",
          "name": "stdout",
          "text": [
            "Orignal : {50, 20, 40, 10, 60, 30}\n",
            "Updated : {50, 66, 20, 55, 40, 10, 60, 30}\n"
          ]
        }
      ]
    },
    {
      "cell_type": "markdown",
      "source": [
        "(ii) WAP to remove 10 and 30 from Set S1."
      ],
      "metadata": {
        "id": "rFRJGfN2CAKn"
      }
    },
    {
      "cell_type": "code",
      "source": [
        "S1= {10, 20, 30, 40, 50, 60}\n",
        "print (\"Orignal :\", S1)\n",
        "\n",
        "S1.remove (10)\n",
        "S1.remove (30)\n",
        "\n",
        "print (\"Updated :\", S1)"
      ],
      "metadata": {
        "colab": {
          "base_uri": "https://localhost:8080/"
        },
        "id": "12V5Bs9-COFP",
        "outputId": "6f8b0559-2115-4dcc-a836-f90347751138"
      },
      "execution_count": null,
      "outputs": [
        {
          "output_type": "stream",
          "name": "stdout",
          "text": [
            "Orignal : {50, 20, 40, 10, 60, 30}\n",
            "Updated : {50, 20, 40, 60}\n"
          ]
        }
      ]
    },
    {
      "cell_type": "markdown",
      "source": [
        "(iv) WAP to check whether 40 is present in S1."
      ],
      "metadata": {
        "id": "BOsqYOl-CjTE"
      }
    },
    {
      "cell_type": "code",
      "source": [
        "S1= {10, 20, 30, 40, 50, 60}\n",
        "for i in S1:\n",
        "  if (i == 40):\n",
        "    print (\"element found\")\n",
        "    break\n",
        "else :\n",
        "  print (\"element not found\")"
      ],
      "metadata": {
        "colab": {
          "base_uri": "https://localhost:8080/"
        },
        "id": "5GUNWrt2CmzS",
        "outputId": "80fdfb11-fd87-4a12-b4d0-41f89458f07b"
      },
      "execution_count": null,
      "outputs": [
        {
          "output_type": "stream",
          "name": "stdout",
          "text": [
            "element found\n"
          ]
        }
      ]
    },
    {
      "cell_type": "markdown",
      "source": [
        "(v) WAP to find the union between S1 and S2."
      ],
      "metadata": {
        "id": "LgHAq55TDgF-"
      }
    },
    {
      "cell_type": "code",
      "source": [
        "S1= {10, 20, 30, 40, 50, 60}\n",
        "S2= {40, 50, 60, 70, 80, 90}\n",
        "\n",
        "print (\"union of S1 and S2 : \", S1.union(S2))\n"
      ],
      "metadata": {
        "colab": {
          "base_uri": "https://localhost:8080/"
        },
        "id": "PiO1OznRDiJO",
        "outputId": "eff66f50-e6ef-4304-8285-bd4cc67793bb"
      },
      "execution_count": null,
      "outputs": [
        {
          "output_type": "stream",
          "name": "stdout",
          "text": [
            "union of S1 and S2 :  {70, 40, 10, 80, 50, 20, 90, 60, 30}\n"
          ]
        }
      ]
    },
    {
      "cell_type": "markdown",
      "source": [
        "(v) WAP to find the intersection between S1 and S2."
      ],
      "metadata": {
        "id": "iJ-NYPLaD6MD"
      }
    },
    {
      "cell_type": "code",
      "source": [
        "S1= {10, 20, 30, 40, 50, 60}\n",
        "S2= {40, 50, 60, 70, 80, 90}\n",
        "\n",
        "print (\"intersection of S1 and S2 : \", S1.intersection(S2))"
      ],
      "metadata": {
        "colab": {
          "base_uri": "https://localhost:8080/"
        },
        "id": "MWUsBTKoD7iP",
        "outputId": "d38027b5-4d7c-4191-b945-314b78859284"
      },
      "execution_count": null,
      "outputs": [
        {
          "output_type": "stream",
          "name": "stdout",
          "text": [
            "intersection of S1 and S2 :  {40, 50, 60}\n"
          ]
        }
      ]
    },
    {
      "cell_type": "markdown",
      "source": [
        "(vi) WAP to find the S1 - S2."
      ],
      "metadata": {
        "id": "gvBNOLCTEM80"
      }
    },
    {
      "cell_type": "code",
      "source": [
        "S1= {10, 20, 30, 40, 50, 60}\n",
        "S2= {40, 50, 60, 70, 80, 90}\n",
        "\n",
        "print (\"S1 - S2 : \", S1-S2)"
      ],
      "metadata": {
        "colab": {
          "base_uri": "https://localhost:8080/"
        },
        "id": "7tI9ZbaEEMZL",
        "outputId": "ad763db4-545b-4634-b910-b7a51abba0b1"
      },
      "execution_count": null,
      "outputs": [
        {
          "output_type": "stream",
          "name": "stdout",
          "text": [
            "S1 - S2 :  {10, 20, 30}\n"
          ]
        }
      ]
    },
    {
      "cell_type": "markdown",
      "source": [
        "\n",
        "\n",
        "---\n",
        "\n"
      ],
      "metadata": {
        "id": "znYOFRe5FJBa"
      }
    },
    {
      "cell_type": "markdown",
      "source": [
        "**Q4. Write the following program.**"
      ],
      "metadata": {
        "id": "aoUKB258FJ_6"
      }
    },
    {
      "cell_type": "markdown",
      "source": [
        "(i) WAP to print 100 random strings whose length between 6 and 8."
      ],
      "metadata": {
        "id": "RmRi4TSLFONa"
      }
    },
    {
      "cell_type": "code",
      "source": [
        "import random as r\n",
        "print (\"The random strings are :\")\n",
        "for i in range (100):\n",
        "  length = r.randint(6,8)\n",
        "  random_string = ''.join(r.choices('abcdefghijklmnopqrstuvwxyz1234567890', k=length))\n",
        "  print (random_string)"
      ],
      "metadata": {
        "colab": {
          "base_uri": "https://localhost:8080/"
        },
        "id": "MKRj0dUgmpOR",
        "outputId": "a002cea4-f985-4e95-e72b-58bd7e208669"
      },
      "execution_count": 4,
      "outputs": [
        {
          "output_type": "stream",
          "name": "stdout",
          "text": [
            "The random strings are :\n",
            "f29nk50\n",
            "1614bq3\n",
            "poyo6c1\n",
            "89y1hoh\n",
            "mclfcd5\n",
            "b9h1mdo\n",
            "tfs8c4\n",
            "ds6keqpj\n",
            "e9vqug0z\n",
            "hirqe8\n",
            "lufk0lr9\n",
            "pgezk4ca\n",
            "v2w2ou\n",
            "3nu9wy3t\n",
            "5bct8a\n",
            "ohcrbu\n",
            "wd2vzhay\n",
            "c8l56r3f\n",
            "ny64s1y\n",
            "o7a798u\n",
            "bke4cf0\n",
            "klksl2k3\n",
            "ter5nd\n",
            "03664gm7\n",
            "e6beji1l\n",
            "vzat59\n",
            "ktdcgeg\n",
            "b2a8x6bd\n",
            "0bi8q16\n",
            "yyuuuwc5\n",
            "1fe6fwy\n",
            "fnjhr5\n",
            "ufbmdj\n",
            "v3epood\n",
            "gedpdw\n",
            "6xovyp\n",
            "6e1m3xl\n",
            "hta45x1\n",
            "qmh297\n",
            "4rsydrsn\n",
            "np5tu9k\n",
            "i1dxl3b\n",
            "po4xn8\n",
            "lab9wbw\n",
            "06mywt\n",
            "gy6plub\n",
            "sfwi4cx\n",
            "fa3m7mm\n",
            "frnhped\n",
            "ffrdr2be\n",
            "zdshrjb\n",
            "hwq15ath\n",
            "fta7oz\n",
            "ix7f5yn\n",
            "nelvxv\n",
            "e2s0ezm\n",
            "o8gx70p\n",
            "8nzegqr\n",
            "53mkn5jw\n",
            "dvm7bmt\n",
            "ay75ht\n",
            "g48wmz1\n",
            "xmlwuyc\n",
            "cgyu5oj\n",
            "091u9nw\n",
            "59pepm\n",
            "y4dsoihw\n",
            "7ma8hi0\n",
            "syzailb\n",
            "xgbgx5rp\n",
            "qq15acv\n",
            "ud976gj\n",
            "zaydc9\n",
            "5o7rj3yg\n",
            "9us1d85\n",
            "va5e8bt0\n",
            "y3aipog\n",
            "lhsrcc1a\n",
            "5hbkasc\n",
            "onavwgxt\n",
            "zrf5hus\n",
            "oj3j57nv\n",
            "2lsvy5\n",
            "sz4bx7s\n",
            "7z8v210\n",
            "49ka5h\n",
            "bjprdxs\n",
            "33f3pw\n",
            "q4a3w7\n",
            "8wiqb52\n",
            "9w296v\n",
            "wndiwm\n",
            "c2igoefn\n",
            "iamz46\n",
            "5annfqqx\n",
            "4earzefk\n",
            "q56h33w\n",
            "vt9fc64i\n",
            "797otqkb\n",
            "i29o33\n"
          ]
        }
      ]
    },
    {
      "cell_type": "markdown",
      "source": [
        "(ii) WAP to print all prime numbers between 600 and 800."
      ],
      "metadata": {
        "id": "KslsKvAcHVtj"
      }
    },
    {
      "cell_type": "code",
      "source": [
        "def is_prime(n):\n",
        "    if n <= 1:\n",
        "        return False\n",
        "    for i in range(2, n//2):\n",
        "        if (n % i) == 0:\n",
        "            return False\n",
        "    return True\n",
        "\n",
        "for i in range(600,801,1):\n",
        "  if (is_prime(i)):\n",
        "    print (i)"
      ],
      "metadata": {
        "colab": {
          "base_uri": "https://localhost:8080/"
        },
        "id": "zHaZa_uPHX57",
        "outputId": "323cbf39-8b91-4cda-ffcf-6873dddd94c6",
        "collapsed": true
      },
      "execution_count": null,
      "outputs": [
        {
          "output_type": "stream",
          "name": "stdout",
          "text": [
            "601\n",
            "607\n",
            "613\n",
            "617\n",
            "619\n",
            "631\n",
            "641\n",
            "643\n",
            "647\n",
            "653\n",
            "659\n",
            "661\n",
            "673\n",
            "677\n",
            "683\n",
            "691\n",
            "701\n",
            "709\n",
            "719\n",
            "727\n",
            "733\n",
            "739\n",
            "743\n",
            "751\n",
            "757\n",
            "761\n",
            "769\n",
            "773\n",
            "787\n",
            "797\n"
          ]
        }
      ]
    },
    {
      "cell_type": "markdown",
      "source": [
        "(iii) WAP to print all numbers between 100 and 1000 that are divisible by 7 and 9."
      ],
      "metadata": {
        "id": "zeuShwtAH06f"
      }
    },
    {
      "cell_type": "code",
      "source": [
        "def divby7 (n):\n",
        "  if n % 7 == 0:\n",
        "    return True\n",
        "def divby9 (n):\n",
        "  if n % 9 == 0:\n",
        "    return True\n",
        "\n",
        "for i in range (100,1001,1):\n",
        "  if (divby7(i) and divby9(i)):\n",
        "    print (i)"
      ],
      "metadata": {
        "colab": {
          "base_uri": "https://localhost:8080/"
        },
        "id": "8-OdpssSH3yS",
        "outputId": "58a37c23-1e27-4b11-832b-8fea76d41caa"
      },
      "execution_count": null,
      "outputs": [
        {
          "output_type": "stream",
          "name": "stdout",
          "text": [
            "126\n",
            "189\n",
            "252\n",
            "315\n",
            "378\n",
            "441\n",
            "504\n",
            "567\n",
            "630\n",
            "693\n",
            "756\n",
            "819\n",
            "882\n",
            "945\n"
          ]
        }
      ]
    },
    {
      "cell_type": "markdown",
      "source": [
        "\n",
        "\n",
        "---\n",
        "\n"
      ],
      "metadata": {
        "id": "0Gp3ibitIiG6"
      }
    },
    {
      "cell_type": "markdown",
      "source": [
        "**Q5. WAP to create two lists of 10 random numbers between 10 and 30; Find**"
      ],
      "metadata": {
        "id": "zWPZu3qWIeuB"
      }
    },
    {
      "cell_type": "markdown",
      "source": [
        "(i) Common numbers in the two lists"
      ],
      "metadata": {
        "id": "dhYvssikIjYq"
      }
    },
    {
      "cell_type": "code",
      "source": [
        "import random as r\n",
        "\n",
        "random_list1 = r.sample(range(10, 31), 10)\n",
        "random_list2 = r.sample(range(10, 31), 10)\n",
        "\n",
        "print(\"List 1:\", random_list1)\n",
        "print(\"List 2:\", random_list2)\n",
        "\n",
        "common_numbers = list(set(random_list1) & set(random_list2))\n",
        "\n",
        "print(\"Common numbers:\", common_numbers)"
      ],
      "metadata": {
        "colab": {
          "base_uri": "https://localhost:8080/"
        },
        "id": "B2WGxBHkIjF8",
        "outputId": "7f89b937-f472-43f4-b60d-6225d67875b4"
      },
      "execution_count": null,
      "outputs": [
        {
          "output_type": "stream",
          "name": "stdout",
          "text": [
            "List 1: [15, 24, 20, 26, 14, 17, 18, 21, 11, 10]\n",
            "List 2: [20, 23, 19, 10, 21, 13, 18, 12, 15, 25]\n",
            "Common numbers: [10, 15, 18, 20, 21]\n"
          ]
        }
      ]
    },
    {
      "cell_type": "markdown",
      "source": [
        "(ii) Unique numbers in both the list"
      ],
      "metadata": {
        "id": "KJwDq4IBKCA-"
      }
    },
    {
      "cell_type": "code",
      "source": [
        "import random as r\n",
        "\n",
        "list1 = r.sample(range(10, 31), 10)\n",
        "list2 = r.sample(range(10, 31), 10)\n",
        "\n",
        "set1 = set(list1)\n",
        "set2 = set(list2)\n",
        "\n",
        "unique_in_list1 = set1 - set2\n",
        "unique_in_list2 = set2 - set1\n",
        "\n",
        "total_unique = unique_in_list1.union(unique_in_list2)\n",
        "\n",
        "print(\"List 1:\", list1)\n",
        "print(\"List 2:\", list2)\n",
        "print(\"Unique elements in List 1:\", unique_in_list1)\n",
        "print(\"Unique elements in List 2:\", unique_in_list2)"
      ],
      "metadata": {
        "id": "xf6apXrBKD_i",
        "colab": {
          "base_uri": "https://localhost:8080/"
        },
        "outputId": "70f64dd9-baf5-49b3-8e3a-e01917d2b852"
      },
      "execution_count": null,
      "outputs": [
        {
          "output_type": "stream",
          "name": "stdout",
          "text": [
            "List 1: [16, 10, 12, 29, 11, 28, 14, 13, 15, 24]\n",
            "List 2: [11, 21, 23, 28, 22, 15, 12, 14, 19, 24]\n",
            "Unique elements in List 1: {16, 10, 29, 13}\n",
            "Unique elements in List 2: {19, 21, 22, 23}\n"
          ]
        }
      ]
    },
    {
      "cell_type": "markdown",
      "source": [
        "(iii) Minimum in both the list\n",
        "\n"
      ],
      "metadata": {
        "id": "Qo7VKCILLjTi"
      }
    },
    {
      "cell_type": "code",
      "source": [
        "import random as r\n",
        "\n",
        "list1 = r.sample(range(10, 31), 10)\n",
        "list2 = r.sample(range(10, 31), 10)\n",
        "\n",
        "print(\"List 1:\", list1)\n",
        "print(\"List 2:\", list2)\n",
        "\n",
        "print (\"minimum in list 1 : \", min(list1))\n",
        "print (\"minimum in list 2 : \", min(list2))"
      ],
      "metadata": {
        "colab": {
          "base_uri": "https://localhost:8080/"
        },
        "id": "mTue310KLv0T",
        "outputId": "6e27c37a-0779-4e9d-ab5d-0cebf7677459"
      },
      "execution_count": null,
      "outputs": [
        {
          "output_type": "stream",
          "name": "stdout",
          "text": [
            "List 1: [16, 27, 11, 28, 26, 13, 23, 14, 20, 25]\n",
            "List 2: [12, 26, 19, 22, 13, 18, 16, 23, 20, 10]\n",
            "minimum in list 1 :  11\n",
            "minimum in list 2 :  10\n"
          ]
        }
      ]
    },
    {
      "cell_type": "markdown",
      "source": [
        "(iv) Maximum in both the list"
      ],
      "metadata": {
        "id": "iyMXS8czL5oe"
      }
    },
    {
      "cell_type": "code",
      "source": [
        "import random as r\n",
        "\n",
        "list1 = r.sample(range(10, 31), 10)\n",
        "list2 = r.sample(range(10, 31), 10)\n",
        "\n",
        "print(\"List 1:\", list1)\n",
        "print(\"List 2:\", list2)\n",
        "\n",
        "print (\"maximum in list 1 : \", max(list1))\n",
        "print (\"maximum in list 2 : \", max(list2))"
      ],
      "metadata": {
        "colab": {
          "base_uri": "https://localhost:8080/"
        },
        "id": "TJ9f0YkwL9Dt",
        "outputId": "21cc3ddf-1798-4cf5-b994-a36d2fa3fb88"
      },
      "execution_count": null,
      "outputs": [
        {
          "output_type": "stream",
          "name": "stdout",
          "text": [
            "List 1: [25, 23, 10, 24, 12, 15, 13, 11, 30, 29]\n",
            "List 2: [22, 21, 12, 24, 18, 14, 28, 20, 26, 23]\n",
            "maximum in list 1 :  30\n",
            "maximum in list 2 :  28\n"
          ]
        }
      ]
    },
    {
      "cell_type": "markdown",
      "source": [
        "(v) Sum of both the lists"
      ],
      "metadata": {
        "id": "hzg9u_msMHdm"
      }
    },
    {
      "cell_type": "code",
      "source": [
        "import random as r\n",
        "\n",
        "list1 = r.sample(range(10, 31), 10)\n",
        "list2 = r.sample(range(10, 31), 10)\n",
        "\n",
        "print(\"List 1:\", list1)\n",
        "print(\"List 2:\", list2)\n",
        "\n",
        "sum1, sum2 = 0,0\n",
        "\n",
        "for i in list1:\n",
        "  sum1 = sum1 + i\n",
        "\n",
        "for i in list2:\n",
        "  sum2 = sum2 + i\n",
        "\n",
        "print (\"sum of list 1 : \", sum1)\n",
        "print (\"sum of list 2 : \", sum2)"
      ],
      "metadata": {
        "colab": {
          "base_uri": "https://localhost:8080/"
        },
        "id": "dM3qFX6EMJj9",
        "outputId": "c89275bf-f5b9-4eae-98c0-963a9dc5ba17"
      },
      "execution_count": null,
      "outputs": [
        {
          "output_type": "stream",
          "name": "stdout",
          "text": [
            "List 1: [24, 25, 30, 10, 23, 17, 15, 22, 19, 13]\n",
            "List 2: [24, 15, 28, 16, 14, 12, 30, 23, 19, 10]\n",
            "sum of list 1 :  198\n",
            "sum of list 2 :  191\n"
          ]
        }
      ]
    },
    {
      "cell_type": "markdown",
      "source": [
        "**Q6. WAP to create a list of 100 random numbers between 100 and 900. Count and print the:**"
      ],
      "metadata": {
        "id": "uGjDWhzrPXZX"
      }
    },
    {
      "cell_type": "markdown",
      "source": [
        "(i) All odd numbers"
      ],
      "metadata": {
        "id": "-Ab-8YPnPaaS"
      }
    },
    {
      "cell_type": "code",
      "source": [
        "import random as r\n",
        "\n",
        "random_list = r.sample(range(100, 901), 100)\n",
        "\n",
        "print(\"List of 100 random numbers:\", random_list)\n",
        "\n",
        "for i in random_list:\n",
        "  if (i%2 != 0):\n",
        "    print (i)"
      ],
      "metadata": {
        "colab": {
          "base_uri": "https://localhost:8080/"
        },
        "collapsed": true,
        "id": "vhejiEvBPaCF",
        "outputId": "d56fb645-601b-4ee3-a792-03ab1ffc88fd"
      },
      "execution_count": null,
      "outputs": [
        {
          "output_type": "stream",
          "name": "stdout",
          "text": [
            "List of 100 random numbers: [470, 476, 704, 827, 497, 403, 813, 446, 789, 463, 609, 454, 220, 167, 188, 822, 399, 165, 215, 596, 829, 344, 122, 304, 690, 840, 197, 473, 722, 246, 405, 102, 779, 385, 198, 353, 411, 806, 209, 444, 871, 460, 787, 453, 553, 717, 125, 694, 287, 698, 127, 203, 253, 804, 498, 509, 743, 791, 100, 530, 504, 516, 786, 744, 477, 311, 659, 750, 652, 769, 802, 115, 728, 696, 524, 678, 324, 410, 194, 376, 119, 641, 310, 574, 464, 756, 793, 602, 163, 692, 600, 196, 506, 863, 248, 172, 360, 662, 278, 763]\n",
            "827\n",
            "497\n",
            "403\n",
            "813\n",
            "789\n",
            "463\n",
            "609\n",
            "167\n",
            "399\n",
            "165\n",
            "215\n",
            "829\n",
            "197\n",
            "473\n",
            "405\n",
            "779\n",
            "385\n",
            "353\n",
            "411\n",
            "209\n",
            "871\n",
            "787\n",
            "453\n",
            "553\n",
            "717\n",
            "125\n",
            "287\n",
            "127\n",
            "203\n",
            "253\n",
            "509\n",
            "743\n",
            "791\n",
            "477\n",
            "311\n",
            "659\n",
            "769\n",
            "115\n",
            "119\n",
            "641\n",
            "793\n",
            "163\n",
            "863\n",
            "763\n"
          ]
        }
      ]
    },
    {
      "cell_type": "markdown",
      "source": [
        "(ii) All even numbers"
      ],
      "metadata": {
        "id": "5qxMaxcyQyvC"
      }
    },
    {
      "cell_type": "code",
      "source": [
        "import random as r\n",
        "\n",
        "random_list = r.sample(range(100, 901), 100)\n",
        "\n",
        "print(\"List of 100 random numbers:\", random_list)\n",
        "\n",
        "for i in random_list:\n",
        "  if (i%2 == 0):\n",
        "    print (i)"
      ],
      "metadata": {
        "colab": {
          "base_uri": "https://localhost:8080/"
        },
        "collapsed": true,
        "id": "JKGJqX03QzsN",
        "outputId": "f4cf0459-0115-4521-cc6f-394a04e560b8"
      },
      "execution_count": null,
      "outputs": [
        {
          "output_type": "stream",
          "name": "stdout",
          "text": [
            "List of 100 random numbers: [678, 418, 776, 210, 595, 739, 453, 426, 528, 392, 227, 642, 650, 703, 167, 180, 633, 588, 416, 812, 499, 334, 501, 785, 519, 125, 450, 537, 898, 535, 184, 427, 443, 220, 641, 434, 322, 440, 449, 635, 128, 262, 228, 704, 850, 636, 259, 252, 791, 754, 886, 505, 264, 303, 424, 346, 577, 335, 709, 875, 215, 349, 726, 727, 545, 344, 777, 838, 474, 379, 571, 279, 738, 141, 548, 555, 232, 863, 362, 442, 269, 660, 140, 366, 689, 574, 707, 589, 746, 529, 637, 793, 345, 576, 845, 797, 679, 260, 123, 503]\n",
            "678\n",
            "418\n",
            "776\n",
            "210\n",
            "426\n",
            "528\n",
            "392\n",
            "642\n",
            "650\n",
            "180\n",
            "588\n",
            "416\n",
            "812\n",
            "334\n",
            "450\n",
            "898\n",
            "184\n",
            "220\n",
            "434\n",
            "322\n",
            "440\n",
            "128\n",
            "262\n",
            "228\n",
            "704\n",
            "850\n",
            "636\n",
            "252\n",
            "754\n",
            "886\n",
            "264\n",
            "424\n",
            "346\n",
            "726\n",
            "344\n",
            "838\n",
            "474\n",
            "738\n",
            "548\n",
            "232\n",
            "362\n",
            "442\n",
            "660\n",
            "140\n",
            "366\n",
            "574\n",
            "746\n",
            "576\n",
            "260\n"
          ]
        }
      ]
    },
    {
      "cell_type": "markdown",
      "source": [
        "(iii) All prime numbers"
      ],
      "metadata": {
        "id": "aq6R8BoGRB9e"
      }
    },
    {
      "cell_type": "code",
      "source": [
        "import random as r\n",
        "\n",
        "random_list = r.sample(range(100, 901), 100)\n",
        "\n",
        "print (\"List of 100 random numbers:\", random_list)\n",
        "\n",
        "def is_prime(n):\n",
        "    if n <= 1:\n",
        "        return False\n",
        "    for i in range(2, n//2):\n",
        "        if (n % i) == 0:\n",
        "            return False\n",
        "    return True\n",
        "\n",
        "for i in random_list:\n",
        "  if (is_prime(i)):\n",
        "    print (i)"
      ],
      "metadata": {
        "colab": {
          "base_uri": "https://localhost:8080/"
        },
        "collapsed": true,
        "id": "_AdZXgxoRCgJ",
        "outputId": "beab1d47-fcbc-40cb-ca5f-0bcc567a445f"
      },
      "execution_count": null,
      "outputs": [
        {
          "output_type": "stream",
          "name": "stdout",
          "text": [
            "List of 100 random numbers: [545, 348, 410, 432, 494, 524, 462, 881, 724, 735, 340, 171, 352, 540, 204, 592, 533, 764, 694, 631, 163, 325, 330, 574, 384, 738, 589, 567, 760, 328, 169, 779, 840, 879, 234, 536, 890, 324, 166, 892, 241, 338, 341, 645, 182, 481, 485, 457, 113, 638, 539, 502, 101, 665, 415, 676, 855, 774, 242, 455, 674, 680, 295, 723, 490, 846, 398, 806, 422, 296, 316, 799, 433, 614, 333, 619, 133, 475, 407, 229, 773, 501, 880, 401, 640, 172, 192, 345, 377, 311, 493, 199, 615, 452, 317, 424, 336, 476, 550, 617]\n",
            "881\n",
            "631\n",
            "163\n",
            "241\n",
            "457\n",
            "113\n",
            "101\n",
            "433\n",
            "619\n",
            "229\n",
            "773\n",
            "401\n",
            "311\n",
            "199\n",
            "317\n",
            "617\n"
          ]
        }
      ]
    },
    {
      "cell_type": "markdown",
      "source": [
        "**Q7. D is a dictionary defined as D={1:\"One\",2:\"Two\",3:\"Three\",4:\"Four\", 5:\"Five\"}.\n",
        "WAP to read all the keys and values from dictionary and write to the file in the given below format.**\n",
        "\n",
        "Key1, Value1\n",
        "Key2, Value2\n",
        "Key3, Value3"
      ],
      "metadata": {
        "id": "hvtN8jAYRXSm"
      }
    },
    {
      "cell_type": "code",
      "source": [
        "D={\n",
        "    1:\"One\",\n",
        "    2:\"Two\",\n",
        "    3:\"Three\",\n",
        "    4:\"Four\",\n",
        "    5:\"Five\"\n",
        "}\n",
        "\n",
        "# Open the file in write mode\n",
        "with open(\"output.txt\", \"w\") as file:\n",
        "    for key, value in D.items():\n",
        "        file.write(f\"{key}, {value}\\n\") #formated string usage\n",
        "\n",
        "print(\"Data written to 'output.txt' successfully.\")\n",
        "\n"
      ],
      "metadata": {
        "colab": {
          "base_uri": "https://localhost:8080/"
        },
        "id": "hoobMYWCRazD",
        "outputId": "0d84016e-9f09-400e-d704-ca3cb696269c"
      },
      "execution_count": 8,
      "outputs": [
        {
          "output_type": "stream",
          "name": "stdout",
          "text": [
            "Data written to 'output.txt' successfully.\n"
          ]
        }
      ]
    },
    {
      "cell_type": "markdown",
      "source": [
        "**Q8. L is a list defined as L={\"One\",\"Two\",\"Three\",\"Four\",\"Five\"}.\n",
        "WAP to count the length of reach element from a list and write to the file in the given below format:\n",
        "One, 3\n",
        "Two, 3\n",
        "Four, 4**"
      ],
      "metadata": {
        "id": "G_RvhU4_Y_IL"
      }
    },
    {
      "cell_type": "code",
      "source": [
        "L = [\"One\", \"Two\", \"Three\", \"Four\", \"Five\"]\n",
        "\n",
        "# Open the file in write mode\n",
        "with open(\"output.txt\", \"w\") as file:\n",
        "    for word in L:\n",
        "        length = len(word)\n",
        "        file.write(f\"{word} --> {length}\\n\")\n",
        "\n",
        "print(\"Lengths written to 'output.txt' successfully.\")\n"
      ],
      "metadata": {
        "colab": {
          "base_uri": "https://localhost:8080/"
        },
        "id": "dwqD8DGwZOqf",
        "outputId": "969d669c-9014-42b8-8472-ad9defb355e5"
      },
      "execution_count": 10,
      "outputs": [
        {
          "output_type": "stream",
          "name": "stdout",
          "text": [
            "Lengths written to 'output.txt' successfully.\n"
          ]
        }
      ]
    },
    {
      "cell_type": "markdown",
      "source": [
        "**Q9. Write to the file 100 random strings whose length between 10 and 15.**"
      ],
      "metadata": {
        "id": "RTKMFaSPZpmd"
      }
    },
    {
      "cell_type": "code",
      "source": [
        "import random as r\n",
        "\n",
        "# Open the file in write mode\n",
        "with open(\"random_strings.txt\", \"w\") as file:\n",
        "    for i in range(100):\n",
        "        length = r.randint(10, 15)\n",
        "        random_string = ''.join(r.choices('abcdefghijklmnopqrstuvwxyz1234567890', k=length))\n",
        "        file.write(random_string + \"\\n\")\n",
        "\n",
        "print(\"Random strings written to 'random_strings.txt' successfully.\")\n"
      ],
      "metadata": {
        "colab": {
          "base_uri": "https://localhost:8080/"
        },
        "id": "pHCnq20bZrW6",
        "outputId": "d7f6b0b7-15d6-42a8-a809-4d85d807fb42"
      },
      "execution_count": 13,
      "outputs": [
        {
          "output_type": "stream",
          "name": "stdout",
          "text": [
            "Random strings written to 'random_strings.txt' successfully.\n"
          ]
        }
      ]
    },
    {
      "cell_type": "markdown",
      "source": [
        "**Q10. Write to the file all prime numbers between 600 and 800.**"
      ],
      "metadata": {
        "id": "zl6g6l-oaisx"
      }
    },
    {
      "cell_type": "code",
      "source": [
        "def is_prime(n):\n",
        "    if n <= 1:\n",
        "        return False\n",
        "    for i in range(2, n//2):\n",
        "        if (n % i) == 0:\n",
        "            return False\n",
        "    return True\n",
        "\n",
        "with open(\"prime_numbers.txt\", \"w\") as file:\n",
        "    for i in range(600, 801):\n",
        "        if is_prime(i):\n",
        "            file.write(str(i) + \"\\n\")\n",
        "\n",
        "print (\"prime numbers are written successfuly\")"
      ],
      "metadata": {
        "colab": {
          "base_uri": "https://localhost:8080/"
        },
        "id": "APsDIbkQalWz",
        "outputId": "9c3dc472-56b1-49b0-ca3f-259f6fa33e7f"
      },
      "execution_count": 16,
      "outputs": [
        {
          "output_type": "stream",
          "name": "stdout",
          "text": [
            "prime numbers are written successfuly\n"
          ]
        }
      ]
    },
    {
      "cell_type": "markdown",
      "source": [
        "**Q11. WAP to calculate the time taken by a program.**"
      ],
      "metadata": {
        "id": "DfA7RuEibAXv"
      }
    },
    {
      "cell_type": "code",
      "source": [
        "import time as t\n",
        "t1 = t.time ()\n",
        "t.sleep (3) #this program will run for 3 seconds\n",
        "t2 = t.time ()\n",
        "print (\"time taken : \", t2-t1)"
      ],
      "metadata": {
        "colab": {
          "base_uri": "https://localhost:8080/"
        },
        "id": "49boPoPHa_eL",
        "outputId": "e2c3b695-5d1c-414b-8226-d6e58b50b2fa"
      },
      "execution_count": 17,
      "outputs": [
        {
          "output_type": "stream",
          "name": "stdout",
          "text": [
            "time taken :  3.0003912448883057\n"
          ]
        }
      ]
    },
    {
      "cell_type": "markdown",
      "source": [
        "**Q12. WAP to sort following number of elements in a list, calculate time taken and plot the graph.\n",
        "Number of elements in list Time Taken\n",
        "5k T1\n",
        "10k T2\n",
        "15k T3\n",
        "20k T4\n",
        "25k T5**"
      ],
      "metadata": {
        "id": "Mp5LZiBSbpNT"
      }
    },
    {
      "cell_type": "code",
      "source": [
        "#doubt"
      ],
      "metadata": {
        "id": "zbTqahDObwik"
      },
      "execution_count": 18,
      "outputs": []
    },
    {
      "cell_type": "markdown",
      "source": [
        "**Q13. WAP to create a dictionary of student marks in five subjects and you have to find the student\n",
        "having maximum and minimum average marks.**"
      ],
      "metadata": {
        "id": "y_njrJXsbg7E"
      }
    },
    {
      "cell_type": "code",
      "source": [
        "students = {\n",
        "    \"Alice\": [88, 76, 92, 85, 79],\n",
        "    \"Bob\": [65, 70, 60, 68, 72],\n",
        "    \"Charlie\": [90, 85, 87, 91, 89],\n",
        "    \"David\": [55, 60, 52, 58, 65],\n",
        "    \"Eva\": [80, 82, 78, 85, 88]\n",
        "}\n",
        "\n",
        "averages = {} # Dictionary to store average marks\n",
        "\n",
        "# Calculate average for each student\n",
        "for name, marks in students.items():\n",
        "    avg = sum(marks) / len(marks)\n",
        "    averages[name] = avg\n",
        "\n",
        "# Find max and min average\n",
        "max_student = max(averages, key=averages.get)\n",
        "min_student = min(averages, key=averages.get)\n",
        "\n",
        "print(f\"Student with Maximum Average: {max_student} - {averages[max_student]:.2f}\")\n",
        "print(f\"Student with Minimum Average: {min_student} - {averages[min_student]:.2f}\")\n"
      ],
      "metadata": {
        "colab": {
          "base_uri": "https://localhost:8080/"
        },
        "id": "eYh3NcS4bn3p",
        "outputId": "76ae5e69-9fbf-484f-d19d-55dd00e4366e"
      },
      "execution_count": 19,
      "outputs": [
        {
          "output_type": "stream",
          "name": "stdout",
          "text": [
            "Student with Maximum Average: Charlie - 88.40\n",
            "Student with Minimum Average: David - 58.00\n"
          ]
        }
      ]
    }
  ]
}